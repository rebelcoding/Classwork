{
 "cells": [
  {
   "cell_type": "markdown",
   "metadata": {},
   "source": [
    "# Monday March 25, 2019 - Start @ 1:35pm\n",
    "\n",
    "## http://labs.screamfreely.org\n",
    "\n",
    "Today we learn how to complete our scrapers!\n",
    "\n",
    "# Link to [Video](https://www.youtube.com/embed/cXeDGhehcjw)\n",
    "\n",
    "## This is what we were going to do today - we'll wrap this up on Wednesday\n",
    "\n",
    "## Also I need FORMAL questions for Friday\n",
    "### [Fill out this Google form with your questions](https://docs.google.com/forms/d/e/1FAIpQLSewd22GeIODKPRZFu1HsgoWT3hEJ9J7AXM6dMSXS0AlewyGeQ/viewform?usp=sf_link)\n",
    "\n",
    "## Update the SFCodingClass repo\n",
    "\n",
    "### `cd notebooks/SFCodingClass`\n",
    "### `git pull origin master`\n",
    "\n",
    "\n",
    "## Make sure you have your website repos set-up\n",
    "\n",
    "### https://username.github.io\n",
    "\n",
    "\n",
    "### How is your website coming along ?!?\n",
    "\n",
    "\n",
    "### scrape_basics.py file is at gist.github.com/cultureclap\n",
    "\n",
    "<iframe width=\"560\" height=\"315\" src=\"https://www.youtube.com/embed/cXeDGhehcjw\" frameborder=\"0\" allow=\"accelerometer; autoplay; encrypted-media; gyroscope; picture-in-picture\" allowfullscreen></iframe>\n",
    "\n",
    "<img src=\"http://www.screamfreely.org/wp-content/uploads/2019/01/tahtGraf-e1548436884199.jpg\"/>\n",
    "\n",
    "#\n",
    "\n",
    "#\n",
    "\n",
    "#\n",
    "\n",
    "#"
   ]
  }
 ],
 "metadata": {
  "kernelspec": {
   "display_name": "Python 3",
   "language": "python",
   "name": "python3"
  },
  "language_info": {
   "codemirror_mode": {
    "name": "ipython",
    "version": 3
   },
   "file_extension": ".py",
   "mimetype": "text/x-python",
   "name": "python",
   "nbconvert_exporter": "python",
   "pygments_lexer": "ipython3",
   "version": "3.6.7"
  }
 },
 "nbformat": 4,
 "nbformat_minor": 2
}
