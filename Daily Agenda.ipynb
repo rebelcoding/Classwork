{
 "cells": [
  {
   "cell_type": "markdown",
   "metadata": {},
   "source": [
    "# Friday March 22, 2019 - Start @ 1:35pm\n",
    "\n",
    "## http://labs.screamfreely.org\n",
    "\n",
    "Today we will be back in the shell -- \n",
    "\n",
    "## Update the SFCodingClass repo\n",
    "\n",
    "### `cd notebooks/SFCodingClass`\n",
    "### `git pull origin master`\n",
    "### `cd JobApp/resume`\n",
    "### Open `resume.tex`\n",
    "### Open `resume.pdf`\n",
    "\n",
    "\n",
    "## Make sure you have your website repos\n",
    "\n",
    "\n",
    "### TODAY: How is your website ?!?\n",
    "\n",
    "\n",
    "### scrape_basics.py file is at gist.github.com/cultureclap\n",
    "\n",
    "<img src=\"http://www.screamfreely.org/wp-content/uploads/2019/01/tahtGraf-e1548436884199.jpg\"/>\n",
    "\n",
    "#\n",
    "\n",
    "#\n",
    "\n",
    "#\n",
    "\n",
    "#"
   ]
  }
 ],
 "metadata": {
  "kernelspec": {
   "display_name": "Python 3",
   "language": "python",
   "name": "python3"
  },
  "language_info": {
   "codemirror_mode": {
    "name": "ipython",
    "version": 3
   },
   "file_extension": ".py",
   "mimetype": "text/x-python",
   "name": "python",
   "nbconvert_exporter": "python",
   "pygments_lexer": "ipython3",
   "version": "3.6.7"
  }
 },
 "nbformat": 4,
 "nbformat_minor": 2
}
