{
 "cells": [
  {
   "cell_type": "markdown",
   "metadata": {},
   "source": [
    "# Welcome to Python\n",
    "\n",
    "A versatile language, we're going to start going to start with the goal of building a scraper.\n",
    "\n",
    "Nonetheless, we need to start with the basics, and so our agenda will be as follows:\n",
    "\n",
    "- Printing and Commenting\n",
    "- Numbers and math\n",
    "- Variables and strings\n",
    "- If else statements\n",
    "- Lists and Loops\n",
    "- **Functions and Dictionaries**\n",
    "- Unpacking inputs\n",
    "- Reading and writing files\n",
    "- Basic Scraping"
   ]
  },
  {
   "cell_type": "markdown",
   "metadata": {},
   "source": [
    "## Dictionaries\n",
    "\n",
    "Dictionaries are collections of key/value pairs enclosed with curly-brackets `{}`.\n",
    "\n",
    "We have already seen them in the JavaScript language, and syntacticly there is no difference to them in Python.\n",
    "\n",
    "```python\n",
    "newDict = {'color': 'blue', 'shape': 'circle', 'published': False, 'items': ['balloon', 'soccer ball', 'tire',]}\n",
    "\n",
    "# The way we would call a specifc item is as follows:\n",
    "\n",
    "itemColor = newDict['color']\n",
    "print(itemColor)\n",
    "\n",
    "# New items can also be set as follows:\n",
    "\n",
    "newDict['3Dshape'] = 'sphere'\n",
    "\n",
    "print(newDict)\n",
    "```\n",
    "\n"
   ]
  },
  {
   "cell_type": "code",
   "execution_count": 1,
   "metadata": {},
   "outputs": [
    {
     "name": "stdout",
     "output_type": "stream",
     "text": [
      "blue\n",
      "{'color': 'blue', 'shape': 'circle', 'published': False, 'items': ['balloon', 'soccer ball', 'tire'], '3Dshape': 'sphere'}\n"
     ]
    }
   ],
   "source": [
    "newDict = {'color': 'blue', 'shape': 'circle', 'published': False, 'items': ['balloon', 'soccer ball', 'tire',]}\n",
    "\n",
    "# The way we would call a specifc item is as follows:\n",
    "\n",
    "itemColor = newDict['color']\n",
    "print(itemColor)\n",
    "\n",
    "# New items can also be set as follows:\n",
    "\n",
    "newDict['3Dshape'] = 'sphere'\n",
    "\n",
    "print(newDict)"
   ]
  },
  {
   "cell_type": "markdown",
   "metadata": {},
   "source": [
    "## Functions\n",
    "\n",
    "In Python, we use the `def functionName(params):` syntax.\n",
    "\n",
    "Beyond this, it is much like you could imagine:"
   ]
  },
  {
   "cell_type": "code",
   "execution_count": 13,
   "metadata": {
    "scrolled": true
   },
   "outputs": [
    {
     "name": "stdout",
     "output_type": "stream",
     "text": [
      "Goodday Manuela\n",
      "new phrase:  Goodday Juan Carlos\n"
     ]
    }
   ],
   "source": [
    "def newFunctionA(name):\n",
    "    print(\"Goodday {0}\".format(name))\n",
    "    \n",
    "newFunctionA('Manuela')\n",
    "\n",
    "def newFunctionB(name):\n",
    "    phrase = \"Goodday {0}\".format(name)\n",
    "    return phrase\n",
    "\n",
    "newFunctionB('Juan Carlos')\n",
    "newPhrase = newFunctionB('Juan Carlos')\n",
    "print('new phrase: ', newPhrase)"
   ]
  }
 ],
 "metadata": {
  "kernelspec": {
   "display_name": "Python 3",
   "language": "python",
   "name": "python3"
  },
  "language_info": {
   "codemirror_mode": {
    "name": "ipython",
    "version": 3
   },
   "file_extension": ".py",
   "mimetype": "text/x-python",
   "name": "python",
   "nbconvert_exporter": "python",
   "pygments_lexer": "ipython3",
   "version": "3.6.7"
  }
 },
 "nbformat": 4,
 "nbformat_minor": 2
}
