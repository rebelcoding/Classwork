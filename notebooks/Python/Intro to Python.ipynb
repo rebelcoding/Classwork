{
 "cells": [
  {
   "cell_type": "markdown",
   "metadata": {},
   "source": [
    "# Welcome to Python\n",
    "\n",
    "A versatile language, we're going to start going to start with the goal of building a scraper.\n",
    "\n",
    "Nonetheless, we need to start with the basics, and so our agenda will be as follows:\n",
    "\n",
    "- Printing and Commenting\n",
    "- Numbers and math\n",
    "- Variables and strings\n",
    "- Reading and writing files\n",
    "- If else statements\n",
    "- Loops and lists w/ indexes\n",
    "- Functions\n",
    "- Dictionaries\n",
    "- Basic Scraping"
   ]
  }
 ],
 "metadata": {
  "kernelspec": {
   "display_name": "Python 3",
   "language": "python",
   "name": "python3"
  },
  "language_info": {
   "codemirror_mode": {
    "name": "ipython",
    "version": 3
   },
   "file_extension": ".py",
   "mimetype": "text/x-python",
   "name": "python",
   "nbconvert_exporter": "python",
   "pygments_lexer": "ipython3",
   "version": "3.6.7"
  }
 },
 "nbformat": 4,
 "nbformat_minor": 2
}
