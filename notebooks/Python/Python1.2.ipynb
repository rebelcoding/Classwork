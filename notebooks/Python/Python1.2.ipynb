{
 "cells": [
  {
   "cell_type": "markdown",
   "metadata": {},
   "source": [
    "# Math in Python\n",
    "\n",
    "A versatile language, we're going to start going to start with the goal of building a scraper.\n",
    "\n",
    "Nonetheless, we need to start with the basics, and so our agenda will be as follows:\n",
    "\n",
    "- Printing and Commenting\n",
    "- **Numbers and math**\n",
    "- Variables and strings\n",
    "- If else statements\n",
    "- Loops and lists w/ indexes\n",
    "- Functions and Dictionaries\n",
    "- Unpacking inputs\n",
    "- Reading and writing files\n",
    "- Basic Scraping\n",
    "\n",
    "## Types of Numbers\n",
    "\n",
    "First thing we need to recognize are the two types of numbers in coding, *integers* and *floats*.\n",
    "\n",
    "**Integers** are whole numbers: 1, 65, 764\n",
    "\n",
    "**Floats** are numbers with decimals: 1.2, 65.00, 764.324\n",
    "\n",
    "Also, take note that there is a difference in how number and strings are written.\n",
    "\n",
    "Numbers that are meant to be read as numbers, are not printed within quotations."
   ]
  },
  {
   "cell_type": "code",
   "execution_count": 5,
   "metadata": {},
   "outputs": [
    {
     "name": "stdout",
     "output_type": "stream",
     "text": [
      "12\n",
      "<class 'int'>\n",
      "12.0\n",
      "<class 'float'>\n",
      "12\n",
      "<class 'str'>\n"
     ]
    }
   ],
   "source": [
    "print(12)\n",
    "print(type(12))\n",
    "print(12.0)\n",
    "print(type(12.00))\n",
    "print(\"12\")\n",
    "print(type(\"12\"))"
   ]
  },
  {
   "cell_type": "markdown",
   "metadata": {},
   "source": [
    "This comes into play when we want to perform arithmatical operations using our numerical variables.\n",
    "\n",
    "Adding strings is not the same as adding numbers.\n",
    "\n",
    "Not to say you can't add strings :)\n",
    "\n",
    "## Basic Maths\n",
    "\n",
    "Addition, subtraction, multiplication, division, exponentiation and more can all be accomplished with Python.\n",
    "\n",
    "It can used like a calculator."
   ]
  },
  {
   "cell_type": "code",
   "execution_count": 12,
   "metadata": {},
   "outputs": [
    {
     "name": "stdout",
     "output_type": "stream",
     "text": [
      "25 + 6 =  31\n",
      "25 - 6 =  19\n",
      "25 * 6 =  150\n",
      "25 / 6 =  4.166666666666667\n",
      "25 ** 6 =  244140625\n",
      "25 % 6 =  1\n"
     ]
    }
   ],
   "source": [
    "total = 25 + 6\n",
    "print(\"25 + 6 = \", total)\n",
    "total = 25 - 6\n",
    "print(\"25 - 6 = \", total)\n",
    "total = 25 * 6\n",
    "print(\"25 * 6 = \", total)\n",
    "total = 25 / 6\n",
    "print(\"25 / 6 = \", total)\n",
    "total = 25 ** 6\n",
    "print(\"25 ** 6 = \", total)\n",
    "total = 25 % 6\n",
    "print(\"25 % 6 = \", total)"
   ]
  },
  {
   "cell_type": "markdown",
   "metadata": {},
   "source": [
    "**Addition** add numbers together\n",
    "\n",
    "**Subtraction** subtract number from each other\n",
    "\n",
    "**Multiplication** multiply numbers by each other\n",
    "\n",
    "**Division** divide numbers by each other\n",
    "\n",
    "**Exponentiation** exponentiate numbers by each other\n",
    "\n",
    "**Modulus** Provides the remainder of division operation and means -- if I divide the first number by the second number, and it isn't an even division ... how much do I have remaining ??\n",
    "\n",
    "25 divided by 6 equals 4 with a remainder of 1.\n",
    "\n"
   ]
  }
 ],
 "metadata": {
  "kernelspec": {
   "display_name": "Python 3",
   "language": "python",
   "name": "python3"
  },
  "language_info": {
   "codemirror_mode": {
    "name": "ipython",
    "version": 3
   },
   "file_extension": ".py",
   "mimetype": "text/x-python",
   "name": "python",
   "nbconvert_exporter": "python",
   "pygments_lexer": "ipython3",
   "version": "3.6.7"
  }
 },
 "nbformat": 4,
 "nbformat_minor": 2
}
