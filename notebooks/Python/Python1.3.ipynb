{
 "cells": [
  {
   "cell_type": "markdown",
   "metadata": {},
   "source": [
    "# Variables and Strings\n",
    "\n",
    "A versatile language, we're going to start going to start with the goal of building a scraper.\n",
    "\n",
    "Nonetheless, we need to start with the basics, and so our agenda will be as follows:\n",
    "\n",
    "- Printing and Commenting\n",
    "- Numbers and math\n",
    "- **Variables and strings**\n",
    "- If else statements\n",
    "- Loops and lists w/ indexes\n",
    "- Functions and Dictionaries\n",
    "- Unpacking inputs\n",
    "- Reading and writing files\n",
    "- Basic Scraping\n",
    "\n",
    "## Variables\n",
    "\n",
    "First thing we need to recognize are the two ways to write variable names.\n",
    "\n",
    "Our objective is for our code to be as readable as possible.\n",
    "\n",
    "**Camelcase** thisVariable\n",
    "\n",
    "**Underscores** this_variable"
   ]
  },
  {
   "cell_type": "code",
   "execution_count": 6,
   "metadata": {},
   "outputs": [
    {
     "name": "stdout",
     "output_type": "stream",
     "text": [
      "144\n",
      "<class 'int'> \n",
      "\n",
      "\n",
      "144.0\n",
      "<class 'float'>\n"
     ]
    }
   ],
   "source": [
    "bushel_of_apples = 48\n",
    "numberOfApples = 3 * bushel_of_apples\n",
    "apples_as_float = 3.0 * bushel_of_apples\n",
    "\n",
    "print(numberOfApples)\n",
    "print(type(numberOfApples), \"\\n\\n\")\n",
    "print(apples_as_float)\n",
    "print(type(apples_as_float))\n"
   ]
  },
  {
   "cell_type": "markdown",
   "metadata": {},
   "source": [
    "This comes into play when we want to perform arithmatical operations using our numerical variables.\n",
    "\n",
    "Adding strings is not the same as adding numbers.\n",
    "\n",
    "Not to say you can't add strings :)\n",
    "\n",
    "## Strings\n",
    "\n",
    "We already know what strings are, but let's review to reaffirm:\n",
    "\n",
    "Strings are collections of alpha-number characters and symbols enclosed by quotations, either double or single.\n",
    "\n",
    "There are variety of functions that can be done with strings.\n",
    "\n",
    "**Split()** Imagine that you have a string which is a date and time; you need to separate the time from the date, and only provide a start time.\n",
    "\n",
    "```python\n",
    "newString = \"March 2, 2019 7:00-9:00\"\n",
    "startTime = newString.split(\"-\") # split on hyphens\n",
    "print(startTime)\n",
    "```\n",
    "Split() wants a string as well, to know on which specific character, or set of characters upon which to split.\n",
    "\n",
    "**Replace()** Our specific use case is when extracting paragraphs of text with symbols that do not always translate well.\n",
    "\n",
    "```python\n",
    "newString = \"There is this statement thatx0a3s super cray.\"\n",
    "startTime = newString.replace(\"x0a3\", \"'\") # replace 'x0a3' with a comma\n",
    "print(startTime)\n",
    "```\n",
    "The replace() function requires two string parameters, a string in need of replacing and string with which to replace it.\n",
    "\n",
    "\n",
    "**Join()** We use join to combine a list of strings.\n",
    "\n",
    "```python\n",
    "newList = [\"red\", \"blue\", \"green\"]\n",
    "newString = (', ').join(newList) # join the contents of newList with a comma and space\n",
    "print(newString)\n",
    "```"
   ]
  },
  {
   "cell_type": "code",
   "execution_count": 8,
   "metadata": {},
   "outputs": [
    {
     "name": "stdout",
     "output_type": "stream",
     "text": [
      "['March 2, 2019 7:00', '9:00']\n",
      "March 2, 2019 7:00\n",
      "9:00\n",
      "There is this statement that's super cray.\n",
      "red, blue, green\n"
     ]
    }
   ],
   "source": [
    "newString = \"March 2, 2019 7:00-9:00\"\n",
    "startTime = newString.split(\"-\") # split on hyphens\n",
    "print(startTime)\n",
    "print(startTime[0])\n",
    "print(startTime[1])\n",
    "\n",
    "\n",
    "newString = \"There is this statement thatx0a3s super cray.\"\n",
    "replacedString = newString.replace(\"x0a3\", \"'\") # replace 'x0a3' with a comma\n",
    "print(replacedString)\n",
    "\n",
    "\n",
    "newList = [\"red\", \"blue\", \"green\"]\n",
    "newString = (', ').join(newList) # join the contents of newList with a comma and space\n",
    "print(newString)"
   ]
  },
  {
   "cell_type": "markdown",
   "metadata": {},
   "source": [
    "#### Indexing strings?\n",
    "\n",
    "We are able to use index numbers to get ranges of items,or characters.\n",
    "\n",
    "> Notice this applies to both Python lists and strings\n",
    "\n"
   ]
  },
  {
   "cell_type": "code",
   "execution_count": 10,
   "metadata": {},
   "outputs": [
    {
     "name": "stdout",
     "output_type": "stream",
     "text": [
      "This is \n",
      "a string.\n",
      "This is a\n",
      " string.\n"
     ]
    }
   ],
   "source": [
    "nstring = \"This is a string.\"\n",
    "\n",
    "print(nstring[:8]) # Grab the first 8\n",
    "print(nstring[8:]) # Delete the first 8\n",
    "print(nstring[:-8]) # Delete the last 8\n",
    "print(nstring[-8:]) # Keep the last 8"
   ]
  }
 ],
 "metadata": {
  "kernelspec": {
   "display_name": "Python 3",
   "language": "python",
   "name": "python3"
  },
  "language_info": {
   "codemirror_mode": {
    "name": "ipython",
    "version": 3
   },
   "file_extension": ".py",
   "mimetype": "text/x-python",
   "name": "python",
   "nbconvert_exporter": "python",
   "pygments_lexer": "ipython3",
   "version": "3.6.7"
  }
 },
 "nbformat": 4,
 "nbformat_minor": 2
}
