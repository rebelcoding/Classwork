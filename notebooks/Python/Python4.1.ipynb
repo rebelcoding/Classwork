{
 "cells": [
  {
   "cell_type": "markdown",
   "metadata": {},
   "source": [
    "# Welcome to Python\n",
    "\n",
    "These next two sessions are good info to be aware of -- we aren't going to practicing these skills much, but these are EXCELLENT and necessary skills to have.\n",
    "\n",
    "While to be honest I am also continually looking up how to specifically read a JSON and CSV files \n",
    "\n",
    "Nonetheless, we need to start with the basics, and so our agenda will be as follows:\n",
    "\n",
    "- Printing and Commenting\n",
    "- Numbers and math\n",
    "- Variables and strings\n",
    "- If else statements\n",
    "- Loops and lists w/ indexes\n",
    "- Functions and Dictionaries\n",
    "- **Unpacking inputs**\n",
    "- Reading and writing files\n",
    "- Basic Scraping"
   ]
  },
  {
   "cell_type": "markdown",
   "metadata": {},
   "source": [
    "# Inputs\n",
    "\n",
    "Here we are talking about command line inputs.\n",
    "\n",
    "In order to run a script in python, from the shell we would type and run the following:\n",
    "\n",
    "```bash\n",
    "$ python newScript.py\n",
    "```\n",
    "At times, we will want to be able to input information along with this command, that can be utilized by the script.\n",
    "\n",
    "```bash\n",
    "$ python newScript.py Thalia\n",
    "```\n",
    "Out quandary is, how would our script read such input??"
   ]
  },
  {
   "cell_type": "code",
   "execution_count": null,
   "metadata": {},
   "outputs": [],
   "source": [
    "import sys\n",
    "\n"
   ]
  }
 ],
 "metadata": {
  "kernelspec": {
   "display_name": "Python 3",
   "language": "python",
   "name": "python3"
  },
  "language_info": {
   "codemirror_mode": {
    "name": "ipython",
    "version": 3
   },
   "file_extension": ".py",
   "mimetype": "text/x-python",
   "name": "python",
   "nbconvert_exporter": "python",
   "pygments_lexer": "ipython3",
   "version": "3.6.7"
  }
 },
 "nbformat": 4,
 "nbformat_minor": 2
}
