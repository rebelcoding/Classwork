{
 "cells": [
  {
   "cell_type": "markdown",
   "metadata": {},
   "source": [
    "# Welcome to Python\n",
    "\n",
    "A versatile language, we're going to start going to start with the goal of building a scraper.\n",
    "\n",
    "Nonetheless, we need to start with the basics, and so our agenda will be as follows:\n",
    "\n",
    "- **Printing and Commenting**\n",
    "- Numbers and math\n",
    "- Variables and strings\n",
    "- Reading and writing files\n",
    "- If else statements\n",
    "- Loops and lists w/ indexes\n",
    "- Functions\n",
    "- Dictionaries\n",
    "- Basic Scraping\n",
    "\n",
    "\n",
    "## Printing\n",
    "\n",
    "Just as we have `console.log()` in Javascript, we have `print()` in Python."
   ]
  },
  {
   "cell_type": "code",
   "execution_count": 1,
   "metadata": {},
   "outputs": [
    {
     "name": "stdout",
     "output_type": "stream",
     "text": [
      "Here we have printed a line, ain't that fancy!\n"
     ]
    }
   ],
   "source": [
    "print(\"Here we have printed a line, ain't that fancy!\")"
   ]
  },
  {
   "cell_type": "markdown",
   "metadata": {},
   "source": [
    "Python version 3 has given us another component.\n",
    "\n",
    "Sometime we want to be able to add dynamic variables to the strings we print."
   ]
  },
  {
   "cell_type": "code",
   "execution_count": 1,
   "metadata": {},
   "outputs": [
    {
     "name": "stdout",
     "output_type": "stream",
     "text": [
      "Hello Miguel, how are you?\n"
     ]
    }
   ],
   "source": [
    "print(\"Hello {0}, how are you?\".format(\"Miguel\"))"
   ]
  },
  {
   "cell_type": "markdown",
   "metadata": {},
   "source": [
    "It is super easy to read what gets printed, when all that is being printed ... is a single line.\n",
    "\n",
    "Sometimes we will want to be printing out more complicated structures, like dictionaries, that will be difficult to read as one single continuous line.\n",
    "\n",
    "Enter the Python Library prettyprint, run the code below and see what it looks like when you change `ppr` to `print`."
   ]
  },
  {
   "cell_type": "code",
   "execution_count": 2,
   "metadata": {},
   "outputs": [
    {
     "name": "stdout",
     "output_type": "stream",
     "text": [
      "{'Show': 'Futurama',\n",
      " 'published': True,\n",
      " 'quote': 'Oh, how I wish I could believe or understand that! Theres only one '\n",
      "          'reasonable course of action now! Dr. Zoidberg, that doesnt make '\n",
      "          'sense. But, okay! Hello, little man.'}\n"
     ]
    }
   ],
   "source": [
    "from pprint import pprint as ppr\n",
    "\n",
    "dinner = {'Show': 'Futurama', 'published': True, 'quote': 'Oh, how I wish I could believe or understand that! Theres only one reasonable course of action now! Dr. Zoidberg, that doesnt make sense. But, okay! Hello, little man.'}\n",
    "\n",
    "ppr(dinner)"
   ]
  },
  {
   "cell_type": "markdown",
   "metadata": {},
   "source": [
    "## Comments\n",
    "\n",
    "Using comments is necessary for many reasons --- tips for other coders, clues for your self, blocking out unneeded code that you still want to maintain for reference or others ... the list can go on.\n",
    "\n",
    "And there are two was to create comments in Python.\n",
    "\n",
    "The first is by using a `#` symbol"
   ]
  },
  {
   "cell_type": "code",
   "execution_count": 10,
   "metadata": {},
   "outputs": [
    {
     "name": "stdout",
     "output_type": "stream",
     "text": [
      "Print this line instead\n"
     ]
    }
   ],
   "source": [
    "# print(\"Don't print this line.\")\n",
    "print(\"Print this line instead\")"
   ]
  },
  {
   "cell_type": "markdown",
   "metadata": {},
   "source": [
    "And while some programs have keyboard shortcuts for creating comments, adding the `#` symbol is not idea when wanting to comment large blocks of code.\n",
    "\n",
    "Here we will use a grouping of three quotation marks, double- or single-quotations, it does not matter."
   ]
  },
  {
   "cell_type": "code",
   "execution_count": 14,
   "metadata": {},
   "outputs": [
    {
     "name": "stdout",
     "output_type": "stream",
     "text": [
      "Print this line of code\n"
     ]
    },
    {
     "data": {
      "text/plain": [
       "'\\nprint(\"Don\\'t print this\")\\n'"
      ]
     },
     "execution_count": 14,
     "metadata": {},
     "output_type": "execute_result"
    }
   ],
   "source": [
    "print(\"Print this line of code\")\n",
    "\n",
    "'''\n",
    "print(\"Don't print this\")\n",
    "'''"
   ]
  },
  {
   "cell_type": "markdown",
   "metadata": {},
   "source": [
    "Frustratingly, this is not working correctly using the Jupyter notebook Python interpreter.\n",
    "\n",
    "Though I presume you get the idea :)"
   ]
  }
 ],
 "metadata": {
  "kernelspec": {
   "display_name": "Python 3",
   "language": "python",
   "name": "python3"
  },
  "language_info": {
   "codemirror_mode": {
    "name": "ipython",
    "version": 3
   },
   "file_extension": ".py",
   "mimetype": "text/x-python",
   "name": "python",
   "nbconvert_exporter": "python",
   "pygments_lexer": "ipython3",
   "version": "3.6.7"
  }
 },
 "nbformat": 4,
 "nbformat_minor": 2
}
